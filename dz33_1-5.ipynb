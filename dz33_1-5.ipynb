{
 "cells": [
  {
   "cell_type": "markdown",
   "id": "58c9889e",
   "metadata": {},
   "source": [
    "##  Matplotlib, seaborn"
   ]
  },
  {
   "cell_type": "markdown",
   "id": "a3ad2e1c",
   "metadata": {},
   "source": [
    "### Завдання"
   ]
  },
  {
   "cell_type": "markdown",
   "id": "aeb89e94",
   "metadata": {},
   "source": [
    "**1.Створіть xls документ, що містить дані:** марка авто; вартість; споживання палива; максимальна швидкість; вантажопідйомність (потужність). Кількість записів у документі - 20.\n",
    "\n",
    "**2.Візуалізуйте залежності:** споживання палива від вартості лінійною діаграмою; споживання палива від швилкості - точковим графіком, вантажопідйомність (потужність) від швидкості - точковим графіком.\n",
    "\n",
    "**3.Побудуйте гістограму для розділення автомобілів на 5 груп за швидкістю.**\n",
    "\n",
    "**4.Побудуйте коробковий графік для відображення швидкостей різних марок.**\n",
    "\n",
    "**5.Побудуйте парний графік для відображення залежностей величин.**"
   ]
  },
  {
   "cell_type": "markdown",
   "id": "55b3fe2a",
   "metadata": {},
   "source": [
    "### Розв'язок"
   ]
  },
  {
   "cell_type": "code",
   "execution_count": 1,
   "id": "cdb66bfe",
   "metadata": {},
   "outputs": [],
   "source": [
    "import pandas as pd\n",
    "import matplotlib.pyplot as plt\n",
    "import seaborn as sns"
   ]
  },
  {
   "cell_type": "markdown",
   "id": "ce16c57d",
   "metadata": {},
   "source": [
    "**1.Датафрейм з xls документу.**"
   ]
  },
  {
   "cell_type": "code",
   "execution_count": 2,
   "id": "3be23946",
   "metadata": {
    "scrolled": false
   },
   "outputs": [
    {
     "ename": "FileNotFoundError",
     "evalue": "[Errno 2] No such file or directory: 'dz_33.xlsx'",
     "output_type": "error",
     "traceback": [
      "\u001b[1;31m---------------------------------------------------------------------------\u001b[0m",
      "\u001b[1;31mFileNotFoundError\u001b[0m                         Traceback (most recent call last)",
      "Cell \u001b[1;32mIn[2], line 1\u001b[0m\n\u001b[1;32m----> 1\u001b[0m cars \u001b[38;5;241m=\u001b[39m \u001b[43mpd\u001b[49m\u001b[38;5;241;43m.\u001b[39;49m\u001b[43mread_excel\u001b[49m\u001b[43m(\u001b[49m\u001b[38;5;124;43m\"\u001b[39;49m\u001b[38;5;124;43mdz_33.xlsx\u001b[39;49m\u001b[38;5;124;43m\"\u001b[39;49m\u001b[43m)\u001b[49m\n\u001b[0;32m      2\u001b[0m cars\n",
      "File \u001b[1;32m~\\AppData\\Local\\Programs\\Python\\Python310\\lib\\site-packages\\pandas\\util\\_decorators.py:211\u001b[0m, in \u001b[0;36mdeprecate_kwarg.<locals>._deprecate_kwarg.<locals>.wrapper\u001b[1;34m(*args, **kwargs)\u001b[0m\n\u001b[0;32m    209\u001b[0m     \u001b[38;5;28;01melse\u001b[39;00m:\n\u001b[0;32m    210\u001b[0m         kwargs[new_arg_name] \u001b[38;5;241m=\u001b[39m new_arg_value\n\u001b[1;32m--> 211\u001b[0m \u001b[38;5;28;01mreturn\u001b[39;00m func(\u001b[38;5;241m*\u001b[39margs, \u001b[38;5;241m*\u001b[39m\u001b[38;5;241m*\u001b[39mkwargs)\n",
      "File \u001b[1;32m~\\AppData\\Local\\Programs\\Python\\Python310\\lib\\site-packages\\pandas\\util\\_decorators.py:331\u001b[0m, in \u001b[0;36mdeprecate_nonkeyword_arguments.<locals>.decorate.<locals>.wrapper\u001b[1;34m(*args, **kwargs)\u001b[0m\n\u001b[0;32m    325\u001b[0m \u001b[38;5;28;01mif\u001b[39;00m \u001b[38;5;28mlen\u001b[39m(args) \u001b[38;5;241m>\u001b[39m num_allow_args:\n\u001b[0;32m    326\u001b[0m     warnings\u001b[38;5;241m.\u001b[39mwarn(\n\u001b[0;32m    327\u001b[0m         msg\u001b[38;5;241m.\u001b[39mformat(arguments\u001b[38;5;241m=\u001b[39m_format_argument_list(allow_args)),\n\u001b[0;32m    328\u001b[0m         \u001b[38;5;167;01mFutureWarning\u001b[39;00m,\n\u001b[0;32m    329\u001b[0m         stacklevel\u001b[38;5;241m=\u001b[39mfind_stack_level(),\n\u001b[0;32m    330\u001b[0m     )\n\u001b[1;32m--> 331\u001b[0m \u001b[38;5;28;01mreturn\u001b[39;00m func(\u001b[38;5;241m*\u001b[39margs, \u001b[38;5;241m*\u001b[39m\u001b[38;5;241m*\u001b[39mkwargs)\n",
      "File \u001b[1;32m~\\AppData\\Local\\Programs\\Python\\Python310\\lib\\site-packages\\pandas\\io\\excel\\_base.py:482\u001b[0m, in \u001b[0;36mread_excel\u001b[1;34m(io, sheet_name, header, names, index_col, usecols, squeeze, dtype, engine, converters, true_values, false_values, skiprows, nrows, na_values, keep_default_na, na_filter, verbose, parse_dates, date_parser, thousands, decimal, comment, skipfooter, convert_float, mangle_dupe_cols, storage_options)\u001b[0m\n\u001b[0;32m    480\u001b[0m \u001b[38;5;28;01mif\u001b[39;00m \u001b[38;5;129;01mnot\u001b[39;00m \u001b[38;5;28misinstance\u001b[39m(io, ExcelFile):\n\u001b[0;32m    481\u001b[0m     should_close \u001b[38;5;241m=\u001b[39m \u001b[38;5;28;01mTrue\u001b[39;00m\n\u001b[1;32m--> 482\u001b[0m     io \u001b[38;5;241m=\u001b[39m \u001b[43mExcelFile\u001b[49m\u001b[43m(\u001b[49m\u001b[43mio\u001b[49m\u001b[43m,\u001b[49m\u001b[43m \u001b[49m\u001b[43mstorage_options\u001b[49m\u001b[38;5;241;43m=\u001b[39;49m\u001b[43mstorage_options\u001b[49m\u001b[43m,\u001b[49m\u001b[43m \u001b[49m\u001b[43mengine\u001b[49m\u001b[38;5;241;43m=\u001b[39;49m\u001b[43mengine\u001b[49m\u001b[43m)\u001b[49m\n\u001b[0;32m    483\u001b[0m \u001b[38;5;28;01melif\u001b[39;00m engine \u001b[38;5;129;01mand\u001b[39;00m engine \u001b[38;5;241m!=\u001b[39m io\u001b[38;5;241m.\u001b[39mengine:\n\u001b[0;32m    484\u001b[0m     \u001b[38;5;28;01mraise\u001b[39;00m \u001b[38;5;167;01mValueError\u001b[39;00m(\n\u001b[0;32m    485\u001b[0m         \u001b[38;5;124m\"\u001b[39m\u001b[38;5;124mEngine should not be specified when passing \u001b[39m\u001b[38;5;124m\"\u001b[39m\n\u001b[0;32m    486\u001b[0m         \u001b[38;5;124m\"\u001b[39m\u001b[38;5;124man ExcelFile - ExcelFile already has the engine set\u001b[39m\u001b[38;5;124m\"\u001b[39m\n\u001b[0;32m    487\u001b[0m     )\n",
      "File \u001b[1;32m~\\AppData\\Local\\Programs\\Python\\Python310\\lib\\site-packages\\pandas\\io\\excel\\_base.py:1652\u001b[0m, in \u001b[0;36mExcelFile.__init__\u001b[1;34m(self, path_or_buffer, engine, storage_options)\u001b[0m\n\u001b[0;32m   1650\u001b[0m     ext \u001b[38;5;241m=\u001b[39m \u001b[38;5;124m\"\u001b[39m\u001b[38;5;124mxls\u001b[39m\u001b[38;5;124m\"\u001b[39m\n\u001b[0;32m   1651\u001b[0m \u001b[38;5;28;01melse\u001b[39;00m:\n\u001b[1;32m-> 1652\u001b[0m     ext \u001b[38;5;241m=\u001b[39m \u001b[43minspect_excel_format\u001b[49m\u001b[43m(\u001b[49m\n\u001b[0;32m   1653\u001b[0m \u001b[43m        \u001b[49m\u001b[43mcontent_or_path\u001b[49m\u001b[38;5;241;43m=\u001b[39;49m\u001b[43mpath_or_buffer\u001b[49m\u001b[43m,\u001b[49m\u001b[43m \u001b[49m\u001b[43mstorage_options\u001b[49m\u001b[38;5;241;43m=\u001b[39;49m\u001b[43mstorage_options\u001b[49m\n\u001b[0;32m   1654\u001b[0m \u001b[43m    \u001b[49m\u001b[43m)\u001b[49m\n\u001b[0;32m   1655\u001b[0m     \u001b[38;5;28;01mif\u001b[39;00m ext \u001b[38;5;129;01mis\u001b[39;00m \u001b[38;5;28;01mNone\u001b[39;00m:\n\u001b[0;32m   1656\u001b[0m         \u001b[38;5;28;01mraise\u001b[39;00m \u001b[38;5;167;01mValueError\u001b[39;00m(\n\u001b[0;32m   1657\u001b[0m             \u001b[38;5;124m\"\u001b[39m\u001b[38;5;124mExcel file format cannot be determined, you must specify \u001b[39m\u001b[38;5;124m\"\u001b[39m\n\u001b[0;32m   1658\u001b[0m             \u001b[38;5;124m\"\u001b[39m\u001b[38;5;124man engine manually.\u001b[39m\u001b[38;5;124m\"\u001b[39m\n\u001b[0;32m   1659\u001b[0m         )\n",
      "File \u001b[1;32m~\\AppData\\Local\\Programs\\Python\\Python310\\lib\\site-packages\\pandas\\io\\excel\\_base.py:1525\u001b[0m, in \u001b[0;36minspect_excel_format\u001b[1;34m(content_or_path, storage_options)\u001b[0m\n\u001b[0;32m   1522\u001b[0m \u001b[38;5;28;01mif\u001b[39;00m \u001b[38;5;28misinstance\u001b[39m(content_or_path, \u001b[38;5;28mbytes\u001b[39m):\n\u001b[0;32m   1523\u001b[0m     content_or_path \u001b[38;5;241m=\u001b[39m BytesIO(content_or_path)\n\u001b[1;32m-> 1525\u001b[0m \u001b[38;5;28;01mwith\u001b[39;00m \u001b[43mget_handle\u001b[49m\u001b[43m(\u001b[49m\n\u001b[0;32m   1526\u001b[0m \u001b[43m    \u001b[49m\u001b[43mcontent_or_path\u001b[49m\u001b[43m,\u001b[49m\u001b[43m \u001b[49m\u001b[38;5;124;43m\"\u001b[39;49m\u001b[38;5;124;43mrb\u001b[39;49m\u001b[38;5;124;43m\"\u001b[39;49m\u001b[43m,\u001b[49m\u001b[43m \u001b[49m\u001b[43mstorage_options\u001b[49m\u001b[38;5;241;43m=\u001b[39;49m\u001b[43mstorage_options\u001b[49m\u001b[43m,\u001b[49m\u001b[43m \u001b[49m\u001b[43mis_text\u001b[49m\u001b[38;5;241;43m=\u001b[39;49m\u001b[38;5;28;43;01mFalse\u001b[39;49;00m\n\u001b[0;32m   1527\u001b[0m \u001b[43m\u001b[49m\u001b[43m)\u001b[49m \u001b[38;5;28;01mas\u001b[39;00m handle:\n\u001b[0;32m   1528\u001b[0m     stream \u001b[38;5;241m=\u001b[39m handle\u001b[38;5;241m.\u001b[39mhandle\n\u001b[0;32m   1529\u001b[0m     stream\u001b[38;5;241m.\u001b[39mseek(\u001b[38;5;241m0\u001b[39m)\n",
      "File \u001b[1;32m~\\AppData\\Local\\Programs\\Python\\Python310\\lib\\site-packages\\pandas\\io\\common.py:865\u001b[0m, in \u001b[0;36mget_handle\u001b[1;34m(path_or_buf, mode, encoding, compression, memory_map, is_text, errors, storage_options)\u001b[0m\n\u001b[0;32m    856\u001b[0m         handle \u001b[38;5;241m=\u001b[39m \u001b[38;5;28mopen\u001b[39m(\n\u001b[0;32m    857\u001b[0m             handle,\n\u001b[0;32m    858\u001b[0m             ioargs\u001b[38;5;241m.\u001b[39mmode,\n\u001b[1;32m   (...)\u001b[0m\n\u001b[0;32m    861\u001b[0m             newline\u001b[38;5;241m=\u001b[39m\u001b[38;5;124m\"\u001b[39m\u001b[38;5;124m\"\u001b[39m,\n\u001b[0;32m    862\u001b[0m         )\n\u001b[0;32m    863\u001b[0m     \u001b[38;5;28;01melse\u001b[39;00m:\n\u001b[0;32m    864\u001b[0m         \u001b[38;5;66;03m# Binary mode\u001b[39;00m\n\u001b[1;32m--> 865\u001b[0m         handle \u001b[38;5;241m=\u001b[39m \u001b[38;5;28;43mopen\u001b[39;49m\u001b[43m(\u001b[49m\u001b[43mhandle\u001b[49m\u001b[43m,\u001b[49m\u001b[43m \u001b[49m\u001b[43mioargs\u001b[49m\u001b[38;5;241;43m.\u001b[39;49m\u001b[43mmode\u001b[49m\u001b[43m)\u001b[49m\n\u001b[0;32m    866\u001b[0m     handles\u001b[38;5;241m.\u001b[39mappend(handle)\n\u001b[0;32m    868\u001b[0m \u001b[38;5;66;03m# Convert BytesIO or file objects passed with an encoding\u001b[39;00m\n",
      "\u001b[1;31mFileNotFoundError\u001b[0m: [Errno 2] No such file or directory: 'dz_33.xlsx'"
     ]
    }
   ],
   "source": [
    "cars = pd.read_excel(\"dz_33.xlsx\")\n",
    "cars"
   ]
  },
  {
   "cell_type": "markdown",
   "id": "74e78d27",
   "metadata": {},
   "source": [
    "**2.Візуалізація залежностей:**"
   ]
  },
  {
   "cell_type": "markdown",
   "id": "17c82ec3",
   "metadata": {},
   "source": [
    "**2.1.Споживання палива від вартості. Лінійна діаграма**"
   ]
  },
  {
   "cell_type": "code",
   "execution_count": 7,
   "id": "64499090",
   "metadata": {
    "scrolled": true
   },
   "outputs": [
    {
     "data": {
      "text/html": [
       "<div>\n",
       "<style scoped>\n",
       "    .dataframe tbody tr th:only-of-type {\n",
       "        vertical-align: middle;\n",
       "    }\n",
       "\n",
       "    .dataframe tbody tr th {\n",
       "        vertical-align: top;\n",
       "    }\n",
       "\n",
       "    .dataframe thead th {\n",
       "        text-align: right;\n",
       "    }\n",
       "</style>\n",
       "<table border=\"1\" class=\"dataframe\">\n",
       "  <thead>\n",
       "    <tr style=\"text-align: right;\">\n",
       "      <th></th>\n",
       "      <th>Марка автомобіля</th>\n",
       "      <th>Витрати пального (змішаний цикл), л/100 км</th>\n",
       "      <th>Макс швидкість, км/год</th>\n",
       "      <th>Потужність, к.с.</th>\n",
       "      <th>Вартість, грн</th>\n",
       "    </tr>\n",
       "  </thead>\n",
       "  <tbody>\n",
       "    <tr>\n",
       "      <th>12</th>\n",
       "      <td>Suzuki Ignix GLX</td>\n",
       "      <td>4.1</td>\n",
       "      <td>165</td>\n",
       "      <td>83</td>\n",
       "      <td>750900</td>\n",
       "    </tr>\n",
       "    <tr>\n",
       "      <th>2</th>\n",
       "      <td>Toyota COROLLA City</td>\n",
       "      <td>6.4</td>\n",
       "      <td>200</td>\n",
       "      <td>132</td>\n",
       "      <td>826210</td>\n",
       "    </tr>\n",
       "    <tr>\n",
       "      <th>6</th>\n",
       "      <td>PEUGEOT 208</td>\n",
       "      <td>5.8</td>\n",
       "      <td>176</td>\n",
       "      <td>75</td>\n",
       "      <td>837400</td>\n",
       "    </tr>\n",
       "    <tr>\n",
       "      <th>11</th>\n",
       "      <td>Suzuki Vitara GL</td>\n",
       "      <td>6.2</td>\n",
       "      <td>180</td>\n",
       "      <td>117</td>\n",
       "      <td>885000</td>\n",
       "    </tr>\n",
       "    <tr>\n",
       "      <th>5</th>\n",
       "      <td>Toyota YARIS CROSS</td>\n",
       "      <td>5.9</td>\n",
       "      <td>180</td>\n",
       "      <td>125</td>\n",
       "      <td>926850</td>\n",
       "    </tr>\n",
       "    <tr>\n",
       "      <th>7</th>\n",
       "      <td>PEUGEOT 2008 ACTIVE Pack</td>\n",
       "      <td>6.5</td>\n",
       "      <td>199</td>\n",
       "      <td>130</td>\n",
       "      <td>968900</td>\n",
       "    </tr>\n",
       "    <tr>\n",
       "      <th>0</th>\n",
       "      <td>Toyota RAV4 Live</td>\n",
       "      <td>6.5</td>\n",
       "      <td>190</td>\n",
       "      <td>173</td>\n",
       "      <td>1054500</td>\n",
       "    </tr>\n",
       "    <tr>\n",
       "      <th>19</th>\n",
       "      <td>Honda JASS</td>\n",
       "      <td>3.7</td>\n",
       "      <td>175</td>\n",
       "      <td>80</td>\n",
       "      <td>1094900</td>\n",
       "    </tr>\n",
       "    <tr>\n",
       "      <th>8</th>\n",
       "      <td>PEUGEOT 3008 ACTIVE Pack</td>\n",
       "      <td>4.0</td>\n",
       "      <td>189</td>\n",
       "      <td>130</td>\n",
       "      <td>1176800</td>\n",
       "    </tr>\n",
       "    <tr>\n",
       "      <th>1</th>\n",
       "      <td>Toyota CAMRY Elegance</td>\n",
       "      <td>6.8</td>\n",
       "      <td>210</td>\n",
       "      <td>207</td>\n",
       "      <td>1248380</td>\n",
       "    </tr>\n",
       "    <tr>\n",
       "      <th>9</th>\n",
       "      <td>Volkswagen T-Roc Sport</td>\n",
       "      <td>7.1</td>\n",
       "      <td>170</td>\n",
       "      <td>150</td>\n",
       "      <td>1266550</td>\n",
       "    </tr>\n",
       "    <tr>\n",
       "      <th>18</th>\n",
       "      <td>Honda CR-V Executive</td>\n",
       "      <td>7.8</td>\n",
       "      <td>190</td>\n",
       "      <td>200</td>\n",
       "      <td>1389000</td>\n",
       "    </tr>\n",
       "    <tr>\n",
       "      <th>4</th>\n",
       "      <td>Toyota HILUX Business</td>\n",
       "      <td>7.4</td>\n",
       "      <td>170</td>\n",
       "      <td>150</td>\n",
       "      <td>1409700</td>\n",
       "    </tr>\n",
       "    <tr>\n",
       "      <th>15</th>\n",
       "      <td>Lexus UX</td>\n",
       "      <td>4.5</td>\n",
       "      <td>177</td>\n",
       "      <td>184</td>\n",
       "      <td>1784000</td>\n",
       "    </tr>\n",
       "    <tr>\n",
       "      <th>10</th>\n",
       "      <td>Volkswagen Tiguan R-Line</td>\n",
       "      <td>8.3</td>\n",
       "      <td>190</td>\n",
       "      <td>220</td>\n",
       "      <td>1836265</td>\n",
       "    </tr>\n",
       "    <tr>\n",
       "      <th>3</th>\n",
       "      <td>Toyota HIGHLANDER Premium</td>\n",
       "      <td>9.8</td>\n",
       "      <td>180</td>\n",
       "      <td>249</td>\n",
       "      <td>2295850</td>\n",
       "    </tr>\n",
       "    <tr>\n",
       "      <th>16</th>\n",
       "      <td>Lexus RX  Business</td>\n",
       "      <td>8.5</td>\n",
       "      <td>200</td>\n",
       "      <td>238</td>\n",
       "      <td>2334254</td>\n",
       "    </tr>\n",
       "    <tr>\n",
       "      <th>17</th>\n",
       "      <td>Lexus GX 460</td>\n",
       "      <td>13.0</td>\n",
       "      <td>175</td>\n",
       "      <td>302</td>\n",
       "      <td>2894280</td>\n",
       "    </tr>\n",
       "    <tr>\n",
       "      <th>13</th>\n",
       "      <td>Audi A5 Sportback</td>\n",
       "      <td>8.1</td>\n",
       "      <td>250</td>\n",
       "      <td>183</td>\n",
       "      <td>2964200</td>\n",
       "    </tr>\n",
       "    <tr>\n",
       "      <th>14</th>\n",
       "      <td>Audi Q5 Sportback</td>\n",
       "      <td>6.5</td>\n",
       "      <td>222</td>\n",
       "      <td>204</td>\n",
       "      <td>3067200</td>\n",
       "    </tr>\n",
       "  </tbody>\n",
       "</table>\n",
       "</div>"
      ],
      "text/plain": [
       "             Марка автомобіля  Витрати пального (змішаний цикл), л/100 км  \\\n",
       "12           Suzuki Ignix GLX                                         4.1   \n",
       "2         Toyota COROLLA City                                         6.4   \n",
       "6                 PEUGEOT 208                                         5.8   \n",
       "11           Suzuki Vitara GL                                         6.2   \n",
       "5          Toyota YARIS CROSS                                         5.9   \n",
       "7    PEUGEOT 2008 ACTIVE Pack                                         6.5   \n",
       "0            Toyota RAV4 Live                                         6.5   \n",
       "19                 Honda JASS                                         3.7   \n",
       "8    PEUGEOT 3008 ACTIVE Pack                                         4.0   \n",
       "1       Toyota CAMRY Elegance                                         6.8   \n",
       "9      Volkswagen T-Roc Sport                                         7.1   \n",
       "18       Honda CR-V Executive                                         7.8   \n",
       "4       Toyota HILUX Business                                         7.4   \n",
       "15                   Lexus UX                                         4.5   \n",
       "10   Volkswagen Tiguan R-Line                                         8.3   \n",
       "3   Toyota HIGHLANDER Premium                                         9.8   \n",
       "16         Lexus RX  Business                                         8.5   \n",
       "17               Lexus GX 460                                        13.0   \n",
       "13          Audi A5 Sportback                                         8.1   \n",
       "14          Audi Q5 Sportback                                         6.5   \n",
       "\n",
       "    Макс швидкість, км/год  Потужність, к.с.  Вартість, грн  \n",
       "12                     165                83         750900  \n",
       "2                      200               132         826210  \n",
       "6                      176                75         837400  \n",
       "11                     180               117         885000  \n",
       "5                      180               125         926850  \n",
       "7                      199               130         968900  \n",
       "0                      190               173        1054500  \n",
       "19                     175                80        1094900  \n",
       "8                      189               130        1176800  \n",
       "1                      210               207        1248380  \n",
       "9                      170               150        1266550  \n",
       "18                     190               200        1389000  \n",
       "4                      170               150        1409700  \n",
       "15                     177               184        1784000  \n",
       "10                     190               220        1836265  \n",
       "3                      180               249        2295850  \n",
       "16                     200               238        2334254  \n",
       "17                     175               302        2894280  \n",
       "13                     250               183        2964200  \n",
       "14                     222               204        3067200  "
      ]
     },
     "execution_count": 7,
     "metadata": {},
     "output_type": "execute_result"
    }
   ],
   "source": [
    "cars_sort = cars.sort_values(by = ['Вартість, грн'])\n",
    "cars_sort"
   ]
  },
  {
   "cell_type": "code",
   "execution_count": null,
   "id": "753a1a3c",
   "metadata": {
    "scrolled": true
   },
   "outputs": [],
   "source": [
    "plt.plot(cars_sort['Вартість, грн'], cars_sort['Витрати пального (змішаний цикл), л/100 км'], color = 'blue', linewidth = 3)"
   ]
  },
  {
   "cell_type": "markdown",
   "id": "d3d409df",
   "metadata": {},
   "source": [
    "**2.2.Споживання палива від швидкості. Точковий графік**"
   ]
  },
  {
   "cell_type": "code",
   "execution_count": 9,
   "id": "461749e2",
   "metadata": {
    "scrolled": true
   },
   "outputs": [
    {
     "data": {
      "text/plain": [
       "<matplotlib.collections.PathCollection at 0x2ce8696f220>"
      ]
     },
     "execution_count": 9,
     "metadata": {},
     "output_type": "execute_result"
    },
    {
     "data": {
      "image/png": "[encoded data removed]",
      "text/plain": [
       "<Figure size 640x480 with 1 Axes>"
      ]
     },
     "metadata": {},
     "output_type": "display_data"
    }
   ],
   "source": [
    "plt.scatter(cars['Макс швидкість, км/год'], cars['Витрати пального (змішаний цикл), л/100 км'], color = 'green', marker = 'D')"
   ]
  },
  {
   "cell_type": "markdown",
   "id": "6d00465f",
   "metadata": {},
   "source": [
    "**2.3.Потужність від швидкості. Точковий графік**"
   ]
  },
  {
   "cell_type": "code",
   "execution_count": 10,
   "id": "1676429c",
   "metadata": {
    "scrolled": true
   },
   "outputs": [
    {
     "data": {
      "text/plain": [
       "<matplotlib.collections.PathCollection at 0x2ce869f2860>"
      ]
     },
     "execution_count": 10,
     "metadata": {},
     "output_type": "execute_result"
    },
    {
     "data": {
      "image/png": "[encoded data removed]",
      "text/plain": [
       "<Figure size 640x480 with 1 Axes>"
      ]
     },
     "metadata": {},
     "output_type": "display_data"
    }
   ],
   "source": [
    "plt.scatter(cars['Макс швидкість, км/год'], cars['Потужність, к.с.'], color = 'orange', marker = 'D')"
   ]
  },
  {
   "cell_type": "markdown",
   "id": "602344fa",
   "metadata": {},
   "source": [
    "**3.Гістограмa розділення автомобілів на 5 груп за швидкістю.**"
   ]
  },
  {
   "cell_type": "code",
   "execution_count": 11,
   "id": "3b0d7059",
   "metadata": {},
   "outputs": [
    {
     "data": {
      "text/plain": [
       "(array([10.,  4.,  4.,  1.,  1.]),\n",
       " array([165., 182., 199., 216., 233., 250.]),\n",
       " <BarContainer object of 5 artists>)"
      ]
     },
     "execution_count": 11,
     "metadata": {},
     "output_type": "execute_result"
    },
    {
     "data": {
      "image/png": "[encoded data removed]",
      "text/plain": [
       "<Figure size 640x480 with 1 Axes>"
      ]
     },
     "metadata": {},
     "output_type": "display_data"
    }
   ],
   "source": [
    "plt.hist(cars['Макс швидкість, км/год'],5, width=16.5, color = 'blue')"
   ]
  },
  {
   "cell_type": "markdown",
   "id": "d60d5289",
   "metadata": {},
   "source": [
    "**4.Коробковий графік для відображення швидкостей різних марок.**"
   ]
  },
  {
   "cell_type": "code",
   "execution_count": 18,
   "id": "0a469922",
   "metadata": {
    "scrolled": true
   },
   "outputs": [
    {
     "data": {
      "text/html": [
       "<div>\n",
       "<style scoped>\n",
       "    .dataframe tbody tr th:only-of-type {\n",
       "        vertical-align: middle;\n",
       "    }\n",
       "\n",
       "    .dataframe tbody tr th {\n",
       "        vertical-align: top;\n",
       "    }\n",
       "\n",
       "    .dataframe thead th {\n",
       "        text-align: right;\n",
       "    }\n",
       "</style>\n",
       "<table border=\"1\" class=\"dataframe\">\n",
       "  <thead>\n",
       "    <tr style=\"text-align: right;\">\n",
       "      <th></th>\n",
       "      <th>Марка автомобіля</th>\n",
       "      <th>Модель автомобіля</th>\n",
       "      <th>Витрати пального (змішаний цикл), л/100 км</th>\n",
       "      <th>Макс швидкість, км/год</th>\n",
       "      <th>Потужність, к.с.</th>\n",
       "      <th>Вартість, грн</th>\n",
       "    </tr>\n",
       "  </thead>\n",
       "  <tbody>\n",
       "    <tr>\n",
       "      <th>0</th>\n",
       "      <td>Toyota</td>\n",
       "      <td>RAV4 Live</td>\n",
       "      <td>6.5</td>\n",
       "      <td>190</td>\n",
       "      <td>173</td>\n",
       "      <td>1054500</td>\n",
       "    </tr>\n",
       "    <tr>\n",
       "      <th>1</th>\n",
       "      <td>Toyota</td>\n",
       "      <td>CAMRY Elegance</td>\n",
       "      <td>6.8</td>\n",
       "      <td>210</td>\n",
       "      <td>207</td>\n",
       "      <td>1248380</td>\n",
       "    </tr>\n",
       "    <tr>\n",
       "      <th>2</th>\n",
       "      <td>Toyota</td>\n",
       "      <td>COROLLA City</td>\n",
       "      <td>6.4</td>\n",
       "      <td>200</td>\n",
       "      <td>132</td>\n",
       "      <td>826210</td>\n",
       "    </tr>\n",
       "    <tr>\n",
       "      <th>3</th>\n",
       "      <td>Toyota</td>\n",
       "      <td>HIGHLANDER Premium</td>\n",
       "      <td>9.8</td>\n",
       "      <td>180</td>\n",
       "      <td>249</td>\n",
       "      <td>2295850</td>\n",
       "    </tr>\n",
       "    <tr>\n",
       "      <th>4</th>\n",
       "      <td>Toyota</td>\n",
       "      <td>HILUX Business</td>\n",
       "      <td>7.4</td>\n",
       "      <td>170</td>\n",
       "      <td>150</td>\n",
       "      <td>1409700</td>\n",
       "    </tr>\n",
       "    <tr>\n",
       "      <th>5</th>\n",
       "      <td>Toyota</td>\n",
       "      <td>YARIS CROSS</td>\n",
       "      <td>5.9</td>\n",
       "      <td>180</td>\n",
       "      <td>125</td>\n",
       "      <td>926850</td>\n",
       "    </tr>\n",
       "    <tr>\n",
       "      <th>6</th>\n",
       "      <td>PEUGEOT</td>\n",
       "      <td>208 gti</td>\n",
       "      <td>5.8</td>\n",
       "      <td>176</td>\n",
       "      <td>75</td>\n",
       "      <td>837400</td>\n",
       "    </tr>\n",
       "    <tr>\n",
       "      <th>7</th>\n",
       "      <td>PEUGEOT</td>\n",
       "      <td>2008 ACTIVE Pack</td>\n",
       "      <td>6.5</td>\n",
       "      <td>199</td>\n",
       "      <td>130</td>\n",
       "      <td>968900</td>\n",
       "    </tr>\n",
       "    <tr>\n",
       "      <th>8</th>\n",
       "      <td>PEUGEOT</td>\n",
       "      <td>3008 ACTIVE Pack</td>\n",
       "      <td>4.0</td>\n",
       "      <td>189</td>\n",
       "      <td>130</td>\n",
       "      <td>1176800</td>\n",
       "    </tr>\n",
       "    <tr>\n",
       "      <th>9</th>\n",
       "      <td>Volkswagen</td>\n",
       "      <td>T-Roc Sport</td>\n",
       "      <td>7.1</td>\n",
       "      <td>170</td>\n",
       "      <td>150</td>\n",
       "      <td>1266550</td>\n",
       "    </tr>\n",
       "    <tr>\n",
       "      <th>10</th>\n",
       "      <td>Volkswagen</td>\n",
       "      <td>Tiguan R-Line</td>\n",
       "      <td>8.3</td>\n",
       "      <td>190</td>\n",
       "      <td>220</td>\n",
       "      <td>1836265</td>\n",
       "    </tr>\n",
       "    <tr>\n",
       "      <th>11</th>\n",
       "      <td>Suzuki</td>\n",
       "      <td>Vitara GL</td>\n",
       "      <td>6.2</td>\n",
       "      <td>180</td>\n",
       "      <td>117</td>\n",
       "      <td>885000</td>\n",
       "    </tr>\n",
       "    <tr>\n",
       "      <th>12</th>\n",
       "      <td>Suzuki</td>\n",
       "      <td>Ignix GLX</td>\n",
       "      <td>4.1</td>\n",
       "      <td>165</td>\n",
       "      <td>83</td>\n",
       "      <td>750900</td>\n",
       "    </tr>\n",
       "    <tr>\n",
       "      <th>13</th>\n",
       "      <td>Audi</td>\n",
       "      <td>Sportback</td>\n",
       "      <td>8.1</td>\n",
       "      <td>250</td>\n",
       "      <td>183</td>\n",
       "      <td>2964200</td>\n",
       "    </tr>\n",
       "    <tr>\n",
       "      <th>14</th>\n",
       "      <td>Audi</td>\n",
       "      <td>Q5 Sportback</td>\n",
       "      <td>6.5</td>\n",
       "      <td>222</td>\n",
       "      <td>204</td>\n",
       "      <td>3067200</td>\n",
       "    </tr>\n",
       "    <tr>\n",
       "      <th>15</th>\n",
       "      <td>Lexus</td>\n",
       "      <td>UX</td>\n",
       "      <td>4.5</td>\n",
       "      <td>177</td>\n",
       "      <td>184</td>\n",
       "      <td>1784000</td>\n",
       "    </tr>\n",
       "    <tr>\n",
       "      <th>16</th>\n",
       "      <td>Lexus</td>\n",
       "      <td>RX  Business</td>\n",
       "      <td>8.5</td>\n",
       "      <td>200</td>\n",
       "      <td>238</td>\n",
       "      <td>2334254</td>\n",
       "    </tr>\n",
       "    <tr>\n",
       "      <th>17</th>\n",
       "      <td>Lexus</td>\n",
       "      <td>GX 460</td>\n",
       "      <td>13.0</td>\n",
       "      <td>175</td>\n",
       "      <td>302</td>\n",
       "      <td>2894280</td>\n",
       "    </tr>\n",
       "    <tr>\n",
       "      <th>18</th>\n",
       "      <td>Honda</td>\n",
       "      <td>CR-V Executive</td>\n",
       "      <td>7.8</td>\n",
       "      <td>190</td>\n",
       "      <td>200</td>\n",
       "      <td>1389000</td>\n",
       "    </tr>\n",
       "    <tr>\n",
       "      <th>19</th>\n",
       "      <td>Honda</td>\n",
       "      <td>JASS</td>\n",
       "      <td>3.7</td>\n",
       "      <td>175</td>\n",
       "      <td>80</td>\n",
       "      <td>1094900</td>\n",
       "    </tr>\n",
       "  </tbody>\n",
       "</table>\n",
       "</div>"
      ],
      "text/plain": [
       "   Марка автомобіля   Модель автомобіля  \\\n",
       "0            Toyota           RAV4 Live   \n",
       "1            Toyota      CAMRY Elegance   \n",
       "2            Toyota        COROLLA City   \n",
       "3            Toyota  HIGHLANDER Premium   \n",
       "4            Toyota      HILUX Business   \n",
       "5            Toyota         YARIS CROSS   \n",
       "6           PEUGEOT             208 gti   \n",
       "7           PEUGEOT    2008 ACTIVE Pack   \n",
       "8           PEUGEOT    3008 ACTIVE Pack   \n",
       "9        Volkswagen         T-Roc Sport   \n",
       "10       Volkswagen       Tiguan R-Line   \n",
       "11           Suzuki           Vitara GL   \n",
       "12           Suzuki           Ignix GLX   \n",
       "13             Audi           Sportback   \n",
       "14             Audi        Q5 Sportback   \n",
       "15           Lexus                   UX   \n",
       "16           Lexus         RX  Business   \n",
       "17            Lexus              GX 460   \n",
       "18            Honda      CR-V Executive   \n",
       "19            Honda                JASS   \n",
       "\n",
       "    Витрати пального (змішаний цикл), л/100 км  Макс швидкість, км/год  \\\n",
       "0                                          6.5                     190   \n",
       "1                                          6.8                     210   \n",
       "2                                          6.4                     200   \n",
       "3                                          9.8                     180   \n",
       "4                                          7.4                     170   \n",
       "5                                          5.9                     180   \n",
       "6                                          5.8                     176   \n",
       "7                                          6.5                     199   \n",
       "8                                          4.0                     189   \n",
       "9                                          7.1                     170   \n",
       "10                                         8.3                     190   \n",
       "11                                         6.2                     180   \n",
       "12                                         4.1                     165   \n",
       "13                                         8.1                     250   \n",
       "14                                         6.5                     222   \n",
       "15                                         4.5                     177   \n",
       "16                                         8.5                     200   \n",
       "17                                        13.0                     175   \n",
       "18                                         7.8                     190   \n",
       "19                                         3.7                     175   \n",
       "\n",
       "    Потужність, к.с.  Вартість, грн  \n",
       "0                173        1054500  \n",
       "1                207        1248380  \n",
       "2                132         826210  \n",
       "3                249        2295850  \n",
       "4                150        1409700  \n",
       "5                125         926850  \n",
       "6                 75         837400  \n",
       "7                130         968900  \n",
       "8                130        1176800  \n",
       "9                150        1266550  \n",
       "10               220        1836265  \n",
       "11               117         885000  \n",
       "12                83         750900  \n",
       "13               183        2964200  \n",
       "14               204        3067200  \n",
       "15               184        1784000  \n",
       "16               238        2334254  \n",
       "17               302        2894280  \n",
       "18               200        1389000  \n",
       "19                80        1094900  "
      ]
     },
     "execution_count": 18,
     "metadata": {},
     "output_type": "execute_result"
    }
   ],
   "source": [
    "cars1 = pd.read_excel(\"dz_33_1.xlsx\")\n",
    "cars1"
   ]
  },
  {
   "cell_type": "code",
   "execution_count": 28,
   "id": "47cee36e",
   "metadata": {
    "scrolled": false
   },
   "outputs": [
    {
     "data": {
      "text/plain": [
       "<AxesSubplot: xlabel='Марка автомобіля', ylabel='Макс швидкість, км/год'>"
      ]
     },
     "execution_count": 28,
     "metadata": {},
     "output_type": "execute_result"
    },
    {
     "data": {
      "image/png": "[encoded data removed]",
      "text/plain": [
       "<Figure size 640x480 with 1 Axes>"
      ]
     },
     "metadata": {},
     "output_type": "display_data"
    }
   ],
   "source": [
    "sns.boxplot(x = 'Марка автомобіля', y = 'Макс швидкість, км/год', data = cars1)"
   ]
  },
  {
   "cell_type": "markdown",
   "id": "c99f500e",
   "metadata": {},
   "source": [
    "**5.Парний графік для відображення залежностей величин.**"
   ]
  },
  {
   "cell_type": "code",
   "execution_count": 94,
   "id": "1b762129",
   "metadata": {},
   "outputs": [
    {
     "data": {
      "text/plain": [
       "<seaborn.axisgrid.PairGrid at 0x1ef1220bb80>"
      ]
     },
     "execution_count": 94,
     "metadata": {},
     "output_type": "execute_result"
    },
    {
     "data": {
      "image/png": "[encoded data removed]",
      "text/plain": [
       "<Figure size 1000x1000 with 20 Axes>"
      ]
     },
     "metadata": {},
     "output_type": "display_data"
    }
   ],
   "source": [
    "sns.pairplot(cars)"
   ]
  }
 ],
 "metadata": {
  "kernelspec": {
   "display_name": "Python 3 (ipykernel)",
   "language": "python",
   "name": "python3"
  },
  "language_info": {
   "codemirror_mode": {
    "name": "ipython",
    "version": 3
   },
   "file_extension": ".py",
   "mimetype": "text/x-python",
   "name": "python",
   "nbconvert_exporter": "python",
   "pygments_lexer": "ipython3",
   "version": "3.10.7"
  }
 },
 "nbformat": 4,
 "nbformat_minor": 5
}
