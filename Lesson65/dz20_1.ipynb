{
 "cells": [
  {
   "cell_type": "markdown",
   "id": "93961daa",
   "metadata": {},
   "source": [
    "## Untitled Table"
   ]
  },
  {
   "cell_type": "markdown",
   "id": "144ba231",
   "metadata": {},
   "source": [
    "| Year   | Rank    | Company               | Revenue    | Profit  |\n",
    "|:---    | :---:   | :---:                 | :---:      |  ---:   |\n",
    "| 1955   | 229     | Norton                | 135.0      | N.A.    |\n",
    "| 1955   | 191     | Shlitz Brewing        | 100.0      | N.A.    |\n",
    "| 1955   | 295     | Pacific Vegetable Oil | 97c.9       | N.A.    |\n",
    "| 1955   | 297     | Leibmann Breweries    | 96.0       | N.A.    |\n",
    "| 1955   | 353     | Minneapolis-Moline    | 77.4       | N.A.    |"
   ]
  }
 ],
 "metadata": {
  "kernelspec": {
   "display_name": "Python 3 (ipykernel)",
   "language": "python",
   "name": "python3"
  },
  "language_info": {
   "codemirror_mode": {
    "name": "ipython",
    "version": 3
   },
   "file_extension": ".py",
   "mimetype": "text/x-python",
   "name": "python",
   "nbconvert_exporter": "python",
   "pygments_lexer": "ipython3",
   "version": "3.10.7"
  }
 },
 "nbformat": 4,
 "nbformat_minor": 5
}
